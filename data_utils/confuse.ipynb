{
 "cells": [
  {
   "cell_type": "code",
   "execution_count": 27,
   "metadata": {},
   "outputs": [],
   "source": [
    "from processing_utils import * \n",
    "import matplotlib.pyplot as plt"
   ]
  },
  {
   "cell_type": "code",
   "execution_count": 9,
   "metadata": {},
   "outputs": [],
   "source": [
    "def _get_labeled_datasets_generator_train(path_list,image_dim, preprocess=False,method=tf.image.ResizeMethod.GAUSSIAN):\n",
    "    labels=[]\n",
    "    images=[]\n",
    "    onehot=OneHotEncoder(path_list)\n",
    "    for path in path_list:\n",
    "        path_images=[np.array(img['image']) for img in load_dataset(path,split=\"train\") if img['split']=='train']\n",
    "        path_labels=[onehot(path) for _ in path_images]\n",
    "        images+=path_images\n",
    "        labels+=path_labels\n",
    "    if preprocess:\n",
    "        image_function=get_preprocess_image_train(image_dim,method)\n",
    "    else:\n",
    "        image_function=get_normalize(image_dim,method)\n",
    "    label_generator=get_basic_generator(labels)\n",
    "    image_generator=get_basic_generator([image_function(img) for img in images])\n",
    "    image_dataset = tf.data.Dataset.from_generator(image_generator, output_signature=tf.TensorSpec(shape=(image_dim,image_dim,3), dtype=tf.float32))\n",
    "    label_dataset=tf.data.Dataset.from_generator(label_generator, output_signature=tf.TensorSpec(shape=(len(path_list)), dtype=tf.float32))\n",
    "    return tf.data.Dataset.zip((image_dataset, label_dataset))"
   ]
  },
  {
   "cell_type": "code",
   "execution_count": 20,
   "metadata": {},
   "outputs": [],
   "source": [
    "path_list=[\"jlbaker361/flickr_humans_10k\",\"jlbaker361/anime_faces_10k\"]"
   ]
  },
  {
   "cell_type": "code",
   "execution_count": 21,
   "metadata": {},
   "outputs": [
    {
     "name": "stdout",
     "output_type": "stream",
     "text": [
      "Downloading and preparing dataset None/None to /home/jlb638/.cache/huggingface/datasets/jlbaker361___parquet/jlbaker361--flickr_humans_10k-026d26f47d29b0b0/0.0.0/2a3b91fbd88a2c90d1dbbb32b460cf621d31bd5b05b934492fdef7d8d6f236ec...\n"
     ]
    },
    {
     "name": "stderr",
     "output_type": "stream",
     "text": [
      "Downloading data: 100%|██████████| 446M/446M [00:07<00:00, 63.7MB/s]\n",
      "Downloading data: 100%|██████████| 444M/444M [00:07<00:00, 56.4MB/s]\n",
      "Downloading data: 100%|██████████| 445M/445M [00:07<00:00, 62.9MB/s]\n",
      "Downloading data: 100%|██████████| 447M/447M [00:07<00:00, 57.2MB/s]\n",
      "Downloading data: 100%|██████████| 445M/445M [00:06<00:00, 64.8MB/s]\n",
      "Downloading data: 100%|██████████| 447M/447M [00:06<00:00, 64.2MB/s]\n",
      "Downloading data: 100%|██████████| 446M/446M [00:06<00:00, 64.9MB/s]\n",
      "Downloading data: 100%|██████████| 447M/447M [00:08<00:00, 53.7MB/s]\n",
      "Downloading data: 100%|██████████| 446M/446M [00:05<00:00, 78.7MB/s]\n",
      "Downloading data files: 100%|██████████| 1/1 [01:06<00:00, 66.21s/it]\n",
      "Extracting data files: 100%|██████████| 1/1 [00:00<00:00, 30.61it/s]\n",
      "                                                                                     \r"
     ]
    },
    {
     "name": "stdout",
     "output_type": "stream",
     "text": [
      "Dataset parquet downloaded and prepared to /home/jlb638/.cache/huggingface/datasets/jlbaker361___parquet/jlbaker361--flickr_humans_10k-026d26f47d29b0b0/0.0.0/2a3b91fbd88a2c90d1dbbb32b460cf621d31bd5b05b934492fdef7d8d6f236ec. Subsequent calls will reuse this data.\n",
      "Downloading and preparing dataset None/None to /home/jlb638/.cache/huggingface/datasets/jlbaker361___parquet/jlbaker361--anime_faces_10k-a791da8cb9bea39e/0.0.0/2a3b91fbd88a2c90d1dbbb32b460cf621d31bd5b05b934492fdef7d8d6f236ec...\n"
     ]
    },
    {
     "name": "stderr",
     "output_type": "stream",
     "text": [
      "Downloading data: 100%|██████████| 273M/273M [00:04<00:00, 61.7MB/s]\n",
      "Downloading data: 100%|██████████| 273M/273M [00:04<00:00, 61.6MB/s]\n",
      "Downloading data files: 100%|██████████| 1/1 [00:09<00:00,  9.29s/it]\n",
      "Extracting data files: 100%|██████████| 1/1 [00:00<00:00, 49.30it/s]\n",
      "                                                                                      \r"
     ]
    },
    {
     "name": "stdout",
     "output_type": "stream",
     "text": [
      "Dataset parquet downloaded and prepared to /home/jlb638/.cache/huggingface/datasets/jlbaker361___parquet/jlbaker361--anime_faces_10k-a791da8cb9bea39e/0.0.0/2a3b91fbd88a2c90d1dbbb32b460cf621d31bd5b05b934492fdef7d8d6f236ec. Subsequent calls will reuse this data.\n"
     ]
    }
   ],
   "source": [
    "dataset=_get_labeled_datasets_generator_train(image_dim=64,path_list=path_list)"
   ]
  },
  {
   "cell_type": "code",
   "execution_count": 22,
   "metadata": {},
   "outputs": [],
   "source": [
    "label_dict={}"
   ]
  },
  {
   "cell_type": "code",
   "execution_count": 23,
   "metadata": {},
   "outputs": [],
   "source": [
    "for (img,label) in dataset:\n",
    "    key=str(label)\n",
    "    if key not in label_dict:\n",
    "        label_dict[key]=0\n",
    "    label_dict[key]+=1"
   ]
  },
  {
   "cell_type": "code",
   "execution_count": 45,
   "metadata": {},
   "outputs": [
    {
     "data": {
      "text/plain": [
       "{'tf.Tensor([1. 0.], shape=(2,), dtype=float32)': 9000,\n",
       " 'tf.Tensor([0. 1.], shape=(2,), dtype=float32)': 9000}"
      ]
     },
     "execution_count": 45,
     "metadata": {},
     "output_type": "execute_result"
    }
   ],
   "source": [
    "label_dict"
   ]
  },
  {
   "cell_type": "code",
   "execution_count": 46,
   "metadata": {},
   "outputs": [],
   "source": [
    "dataset=dataset.shuffle(10000)"
   ]
  },
  {
   "cell_type": "code",
   "execution_count": 48,
   "metadata": {},
   "outputs": [
    {
     "name": "stderr",
     "output_type": "stream",
     "text": [
      "Clipping input data to the valid range for imshow with RGB data ([0..1] for floats or [0..255] for integers).\n"
     ]
    },
    {
     "name": "stdout",
     "output_type": "stream",
     "text": [
      "tf.Tensor([1. 0.], shape=(2,), dtype=float32)\n"
     ]
    },
    {
     "data": {
      "image/png": "[encoded data removed]",
      "text/plain": [
       "<Figure size 640x480 with 1 Axes>"
      ]
     },
     "metadata": {},
     "output_type": "display_data"
    }
   ],
   "source": [
    "(img,label)=next(iter(dataset))\n",
    "plt.imshow(img)\n",
    "print(label)"
   ]
  },
  {
   "cell_type": "code",
   "execution_count": null,
   "metadata": {},
   "outputs": [],
   "source": []
  }
 ],
 "metadata": {
  "kernelspec": {
   "display_name": "fine-tune",
   "language": "python",
   "name": "python3"
  },
  "language_info": {
   "codemirror_mode": {
    "name": "ipython",
    "version": 3
   },
   "file_extension": ".py",
   "mimetype": "text/x-python",
   "name": "python",
   "nbconvert_exporter": "python",
   "pygments_lexer": "ipython3",
   "version": "3.9.16"
  },
  "orig_nbformat": 4
 },
 "nbformat": 4,
 "nbformat_minor": 2
}
