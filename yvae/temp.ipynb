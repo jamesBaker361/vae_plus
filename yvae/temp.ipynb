{
 "cells": [
  {
   "cell_type": "code",
   "execution_count": 1,
   "metadata": {},
   "outputs": [],
   "source": [
    "save_path='../../../../../../scratch/jlb638/yvae_models/yvae/unit_testing_64/'"
   ]
  },
  {
   "cell_type": "code",
   "execution_count": 2,
   "metadata": {},
   "outputs": [
    {
     "name": "stderr",
     "output_type": "stream",
     "text": [
      "2023-05-14 18:57:19.183002: I tensorflow/core/platform/cpu_feature_guard.cc:193] This TensorFlow binary is optimized with oneAPI Deep Neural Network Library (oneDNN) to use the following CPU instructions in performance-critical operations:  SSE4.1 SSE4.2 AVX AVX2 FMA\n",
      "To enable them in other operations, rebuild TensorFlow with the appropriate compiler flags.\n"
     ]
    }
   ],
   "source": [
    "import tensorflow as tf"
   ]
  },
  {
   "cell_type": "code",
   "execution_count": 3,
   "metadata": {},
   "outputs": [],
   "source": [
    "from yvae_model import *"
   ]
  },
  {
   "cell_type": "code",
   "execution_count": 4,
   "metadata": {},
   "outputs": [
    {
     "name": "stderr",
     "output_type": "stream",
     "text": [
      "2023-05-14 18:57:22.633015: I tensorflow/core/platform/cpu_feature_guard.cc:193] This TensorFlow binary is optimized with oneAPI Deep Neural Network Library (oneDNN) to use the following CPU instructions in performance-critical operations:  SSE4.1 SSE4.2 AVX AVX2 FMA\n",
      "To enable them in other operations, rebuild TensorFlow with the appropriate compiler flags.\n",
      "2023-05-14 18:57:22.644454: I tensorflow/core/common_runtime/process_util.cc:146] Creating new thread pool with default inter op setting: 2. Tune using inter_op_parallelism_threads for best performance.\n"
     ]
    }
   ],
   "source": [
    "encoder=tf.saved_model.load(save_path+\"encoder\")"
   ]
  },
  {
   "cell_type": "code",
   "execution_count": 5,
   "metadata": {},
   "outputs": [
    {
     "ename": "AttributeError",
     "evalue": "'_UserObject' object has no attribute 'summary'",
     "output_type": "error",
     "traceback": [
      "\u001b[0;31m---------------------------------------------------------------------------\u001b[0m",
      "\u001b[0;31mAttributeError\u001b[0m                            Traceback (most recent call last)",
      "Cell \u001b[0;32mIn[5], line 1\u001b[0m\n\u001b[0;32m----> 1\u001b[0m encoder\u001b[39m.\u001b[39;49msummary()\n",
      "\u001b[0;31mAttributeError\u001b[0m: '_UserObject' object has no attribute 'summary'"
     ]
    }
   ],
   "source": [
    "encoder.summary()"
   ]
  },
  {
   "cell_type": "code",
   "execution_count": null,
   "metadata": {},
   "outputs": [
    {
     "name": "stdout",
     "output_type": "stream",
     "text": [
      "WARNING:tensorflow:No training configuration found in save file, so the model was *not* compiled. Compile it manually.\n"
     ]
    }
   ],
   "source": [
    "classifier=tf.keras.models.load_model('/scratch/jlb638/yvae_models/yvae/unit_testing_classification_32/classifier_model')"
   ]
  },
  {
   "cell_type": "code",
   "execution_count": null,
   "metadata": {},
   "outputs": [
    {
     "data": {
      "text/plain": [
       "['encoder_input',\n",
       " 'conv2d_10',\n",
       " 'conv2d_11',\n",
       " 'batch_normalization_5',\n",
       " 'conv2d_12',\n",
       " 'conv2d_13',\n",
       " 'batch_normalization_6',\n",
       " 'conv2d_14',\n",
       " 'conv2d_15',\n",
       " 'batch_normalization_7',\n",
       " 'conv2d_16',\n",
       " 'conv2d_17',\n",
       " 'batch_normalization_8',\n",
       " 'conv2d_18',\n",
       " 'conv2d_19',\n",
       " 'batch_normalization_9',\n",
       " 'flatten_1',\n",
       " 'z_mean',\n",
       " 'z_log_var',\n",
       " 'z']"
      ]
     },
     "execution_count": 15,
     "metadata": {},
     "output_type": "execute_result"
    }
   ],
   "source": [
    "[layer.name for layer in classifier.get_layer('encoder').layers]"
   ]
  },
  {
   "cell_type": "code",
   "execution_count": 7,
   "metadata": {},
   "outputs": [],
   "source": [
    "input_shape=(64,64,3)\n",
    "inputs = Input(shape=input_shape, name='encoder_input')\n",
    "encoder=get_encoder(inputs,8)"
   ]
  },
  {
   "cell_type": "code",
   "execution_count": 8,
   "metadata": {},
   "outputs": [
    {
     "name": "stdout",
     "output_type": "stream",
     "text": [
      "Model: \"encoder\"\n",
      "__________________________________________________________________________________________________\n",
      " Layer (type)                   Output Shape         Param #     Connected to                     \n",
      "==================================================================================================\n",
      " encoder_input (InputLayer)     [(None, 64, 64, 3)]  0           []                               \n",
      "                                                                                                  \n",
      " encoder_conv_0 (Conv2D)        (None, 64, 64, 32)   896         ['encoder_input[0][0]']          \n",
      "                                                                                                  \n",
      " encoder_conv_1 (Conv2D)        (None, 64, 64, 32)   9248        ['encoder_conv_0[0][0]']         \n",
      "                                                                                                  \n",
      " batch_normalization (BatchNorm  (None, 64, 64, 32)  128         ['encoder_conv_1[0][0]']         \n",
      " alization)                                                                                       \n",
      "                                                                                                  \n",
      " encoder_conv_2 (Conv2D)        (None, 32, 32, 64)   18496       ['batch_normalization[0][0]']    \n",
      "                                                                                                  \n",
      " encoder_conv_3 (Conv2D)        (None, 32, 32, 64)   36928       ['encoder_conv_2[0][0]']         \n",
      "                                                                                                  \n",
      " batch_normalization_1 (BatchNo  (None, 32, 32, 64)  256         ['encoder_conv_3[0][0]']         \n",
      " rmalization)                                                                                     \n",
      "                                                                                                  \n",
      " encoder_conv_4 (Conv2D)        (None, 16, 16, 128)  73856       ['batch_normalization_1[0][0]']  \n",
      "                                                                                                  \n",
      " encoder_conv_5 (Conv2D)        (None, 16, 16, 128)  147584      ['encoder_conv_4[0][0]']         \n",
      "                                                                                                  \n",
      " batch_normalization_2 (BatchNo  (None, 16, 16, 128)  512        ['encoder_conv_5[0][0]']         \n",
      " rmalization)                                                                                     \n",
      "                                                                                                  \n",
      " encoder_conv_6 (Conv2D)        (None, 8, 8, 256)    295168      ['batch_normalization_2[0][0]']  \n",
      "                                                                                                  \n",
      " encoder_conv_7 (Conv2D)        (None, 8, 8, 256)    590080      ['encoder_conv_6[0][0]']         \n",
      "                                                                                                  \n",
      " batch_normalization_3 (BatchNo  (None, 8, 8, 256)   1024        ['encoder_conv_7[0][0]']         \n",
      " rmalization)                                                                                     \n",
      "                                                                                                  \n",
      " encoder_conv_8 (Conv2D)        (None, 4, 4, 512)    1180160     ['batch_normalization_3[0][0]']  \n",
      "                                                                                                  \n",
      " encoder_conv_9 (Conv2D)        (None, 4, 4, 512)    2359808     ['encoder_conv_8[0][0]']         \n",
      "                                                                                                  \n",
      " batch_normalization_4 (BatchNo  (None, 4, 4, 512)   2048        ['encoder_conv_9[0][0]']         \n",
      " rmalization)                                                                                     \n",
      "                                                                                                  \n",
      " flatten (Flatten)              (None, 8192)         0           ['batch_normalization_4[0][0]']  \n",
      "                                                                                                  \n",
      " z_mean (Dense)                 (None, 8)            65544       ['flatten[0][0]']                \n",
      "                                                                                                  \n",
      " z_log_var (Dense)              (None, 8)            65544       ['flatten[0][0]']                \n",
      "                                                                                                  \n",
      " z (SamplingLayer)              (None, 8)            0           ['z_mean[0][0]',                 \n",
      "                                                                  'z_log_var[0][0]']              \n",
      "                                                                                                  \n",
      "==================================================================================================\n",
      "Total params: 4,847,280\n",
      "Trainable params: 4,845,296\n",
      "Non-trainable params: 1,984\n",
      "__________________________________________________________________________________________________\n"
     ]
    }
   ],
   "source": [
    "encoder.summary()"
   ]
  },
  {
   "cell_type": "code",
   "execution_count": null,
   "metadata": {},
   "outputs": [],
   "source": []
  }
 ],
 "metadata": {
  "kernelspec": {
   "display_name": "fine-tune",
   "language": "python",
   "name": "python3"
  },
  "language_info": {
   "codemirror_mode": {
    "name": "ipython",
    "version": 3
   },
   "file_extension": ".py",
   "mimetype": "text/x-python",
   "name": "python",
   "nbconvert_exporter": "python",
   "pygments_lexer": "ipython3",
   "version": "3.9.16"
  },
  "orig_nbformat": 4
 },
 "nbformat": 4,
 "nbformat_minor": 2
}
