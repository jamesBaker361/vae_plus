{
 "cells": [
  {
   "cell_type": "code",
   "execution_count": 5,
   "metadata": {},
   "outputs": [],
   "source": [
    "import sys\n",
    "sys.path.append('/home/jlb638/Desktop/vae_plus')\n",
    "sys.path.append('/home/jlb638/Desktop/vae_plus/data_utils')\n",
    "import os\n",
    "os.environ['TF_XLA_FLAGS'] = '--tf_xla_enable_xla_devices'\n",
    "import tensorflow as tf\n",
    "tf.config.optimizer.set_jit(True)\n",
    "from yvae_data_helper import *\n",
    "from yvae_model import *\n",
    "from yvae_trainer import *\n",
    "from yvae_callbacks import *\n",
    "import argparse\n",
    "from datetime import datetime, timezone\n",
    "from random import randrange\n",
    "import json"
   ]
  },
  {
   "cell_type": "code",
   "execution_count": 6,
   "metadata": {},
   "outputs": [],
   "source": [
    "save_model_folder='../../../../../scratch/jlb638/yvae_models/yvae/creativity_unit_testing_64/'"
   ]
  },
  {
   "cell_type": "code",
   "execution_count": 10,
   "metadata": {},
   "outputs": [
    {
     "ename": "OSError",
     "evalue": "SavedModel file does not exist at: ../../../../../scratch/jlb638/yvae_models/yvae/creativity_unit_testing_64/encoder/{saved_model.pbtxt|saved_model.pb}",
     "output_type": "error",
     "traceback": [
      "\u001b[0;31m---------------------------------------------------------------------------\u001b[0m",
      "\u001b[0;31mOSError\u001b[0m                                   Traceback (most recent call last)",
      "Cell \u001b[0;32mIn[10], line 1\u001b[0m\n\u001b[0;32m----> 1\u001b[0m encoder\u001b[39m=\u001b[39mkeras\u001b[39m.\u001b[39;49mmodels\u001b[39m.\u001b[39;49mload_model(save_model_folder\u001b[39m+\u001b[39;49mENCODER_NAME)\n",
      "File \u001b[0;32m~/.conda/envs/fine-tune/lib/python3.9/site-packages/tensorflow/python/keras/saving/save.py:211\u001b[0m, in \u001b[0;36mload_model\u001b[0;34m(filepath, custom_objects, compile, options)\u001b[0m\n\u001b[1;32m    209\u001b[0m     filepath \u001b[39m=\u001b[39m path_to_string(filepath)\n\u001b[1;32m    210\u001b[0m     \u001b[39mif\u001b[39;00m \u001b[39misinstance\u001b[39m(filepath, six\u001b[39m.\u001b[39mstring_types):\n\u001b[0;32m--> 211\u001b[0m       loader_impl\u001b[39m.\u001b[39;49mparse_saved_model(filepath)\n\u001b[1;32m    212\u001b[0m       \u001b[39mreturn\u001b[39;00m saved_model_load\u001b[39m.\u001b[39mload(filepath, \u001b[39mcompile\u001b[39m, options)\n\u001b[1;32m    214\u001b[0m \u001b[39mraise\u001b[39;00m \u001b[39mIOError\u001b[39;00m(\n\u001b[1;32m    215\u001b[0m     \u001b[39m'\u001b[39m\u001b[39mUnable to load model. Filepath is not an hdf5 file (or h5py is not \u001b[39m\u001b[39m'\u001b[39m\n\u001b[1;32m    216\u001b[0m     \u001b[39m'\u001b[39m\u001b[39mavailable) or SavedModel.\u001b[39m\u001b[39m'\u001b[39m)\n",
      "File \u001b[0;32m~/.conda/envs/fine-tune/lib/python3.9/site-packages/tensorflow/python/saved_model/loader_impl.py:111\u001b[0m, in \u001b[0;36mparse_saved_model\u001b[0;34m(export_dir)\u001b[0m\n\u001b[1;32m    109\u001b[0m     \u001b[39mraise\u001b[39;00m \u001b[39mIOError\u001b[39;00m(\u001b[39m\"\u001b[39m\u001b[39mCannot parse file \u001b[39m\u001b[39m%s\u001b[39;00m\u001b[39m: \u001b[39m\u001b[39m%s\u001b[39;00m\u001b[39m.\u001b[39m\u001b[39m\"\u001b[39m \u001b[39m%\u001b[39m (path_to_pbtxt, \u001b[39mstr\u001b[39m(e)))\n\u001b[1;32m    110\u001b[0m \u001b[39melse\u001b[39;00m:\n\u001b[0;32m--> 111\u001b[0m   \u001b[39mraise\u001b[39;00m \u001b[39mIOError\u001b[39;00m(\u001b[39m\"\u001b[39m\u001b[39mSavedModel file does not exist at: \u001b[39m\u001b[39m%s\u001b[39;00m\u001b[39m/\u001b[39m\u001b[39m{\u001b[39m\u001b[39m%s\u001b[39;00m\u001b[39m|\u001b[39m\u001b[39m%s\u001b[39;00m\u001b[39m}\u001b[39m\u001b[39m\"\u001b[39m \u001b[39m%\u001b[39m\n\u001b[1;32m    112\u001b[0m                 (export_dir,\n\u001b[1;32m    113\u001b[0m                  constants\u001b[39m.\u001b[39mSAVED_MODEL_FILENAME_PBTXT,\n\u001b[1;32m    114\u001b[0m                  constants\u001b[39m.\u001b[39mSAVED_MODEL_FILENAME_PB))\n",
      "\u001b[0;31mOSError\u001b[0m: SavedModel file does not exist at: ../../../../../scratch/jlb638/yvae_models/yvae/creativity_unit_testing_64/encoder/{saved_model.pbtxt|saved_model.pb}"
     ]
    }
   ],
   "source": [
    "encoder=keras.models.load_model(save_model_folder+ENCODER_NAME)"
   ]
  },
  {
   "cell_type": "code",
   "execution_count": null,
   "metadata": {},
   "outputs": [],
   "source": []
  }
 ],
 "metadata": {
  "kernelspec": {
   "display_name": "fine-tune",
   "language": "python",
   "name": "python3"
  },
  "language_info": {
   "codemirror_mode": {
    "name": "ipython",
    "version": 3
   },
   "file_extension": ".py",
   "mimetype": "text/x-python",
   "name": "python",
   "nbconvert_exporter": "python",
   "pygments_lexer": "ipython3",
   "version": "3.9.16"
  },
  "orig_nbformat": 4
 },
 "nbformat": 4,
 "nbformat_minor": 2
}
